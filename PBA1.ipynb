{
  "nbformat": 4,
  "nbformat_minor": 0,
  "metadata": {
    "colab": {
      "name": "Untitled10.ipynb",
      "provenance": [],
      "collapsed_sections": [],
      "authorship_tag": "ABX9TyN4GC6D8uaJElO2Q/smqaCS",
      "include_colab_link": true
    },
    "kernelspec": {
      "name": "python3",
      "display_name": "Python 3"
    },
    "language_info": {
      "name": "python"
    }
  },
  "cells": [
    {
      "cell_type": "markdown",
      "metadata": {
        "id": "view-in-github",
        "colab_type": "text"
      },
      "source": [
        "<a href=\"https://colab.research.google.com/github/SlyFox579/bdt_postblocks/blob/main/PBA1.ipynb\" target=\"_parent\"><img src=\"https://colab.research.google.com/assets/colab-badge.svg\" alt=\"Open In Colab\"/></a>"
      ]
    },
    {
      "cell_type": "code",
      "execution_count": null,
      "metadata": {
        "id": "PiXMA27vUjmu"
      },
      "outputs": [],
      "source": [
        "def run(cmd):\n",
        "  print('>> {}'.format(cmd))\n",
        "  !{cmd}\n",
        "  print('')\n",
        "\n",
        "run('pip install --upgrade pip')\n",
        "\n",
        "# Install apache-beam.\n",
        "run('pip install --quiet apache-beam')\n",
        "\n",
        "# Copy the input file into the local file system.\n",
        "run('mkdir -p data')\n",
        "run('wget https://storage.googleapis.com/bdt-beam/users_v.csv -O data/users.csv')\n",
        "run('wget https://storage.googleapis.com/bdt-beam/orders_v_2022.csv -O data/orders.csv')"
      ]
    },
    {
      "cell_type": "code",
      "source": [
        "import apache_beam as beam\n",
        "with beam.Pipeline() as pipe:\n",
        "  p = (pipe\n",
        "     |beam.io.ReadFromText('data/users.csv', skip_header_lines=True)\n",
        "     |beam.Map(lambda x: x.split(','))\n",
        "     #|beam.Map(lambda x: x[5])\n",
        "     |beam.Map(lambda x: x[0] + ';' + x[1] + ';' + x[2] + ';' + x[3]\n",
        "               + ';' + x[4] + ';' + x[5])\n",
        "     |beam.Map(lambda x: x.split('-'))\n",
        "     |beam.Map(lambda x: x[0] + ' , ' + x[1] + ' , ' + x[2])\n",
        "     |beam.Map(lambda x: x.split('/'))\n",
        "     |beam.Map(lambda x: x[0] + '-' + x[1] + '-' + x[2])\n",
        "     #|beam.Map(lambda x: x.split(';'))\n",
        "     #|beam.Map(print)\n",
        "     |beam.io.WriteToText('data/users_v.csv')\n",
        "  )"
      ],
      "metadata": {
        "colab": {
          "base_uri": "https://localhost:8080/",
          "height": 54
        },
        "id": "UPOOyVGaREAE",
        "outputId": "92c847bb-51df-4ee8-adb9-91e0cd0c946c"
      },
      "execution_count": null,
      "outputs": [
        {
          "output_type": "stream",
          "name": "stderr",
          "text": [
            "WARNING:apache_beam.runners.interactive.interactive_environment:Dependencies required for Interactive Beam PCollection visualization are not available, please use: `pip install apache-beam[interactive]` to install necessary dependencies to enable all data visualization features.\n"
          ]
        },
        {
          "output_type": "display_data",
          "data": {
            "application/javascript": [
              "\n",
              "        if (typeof window.interactive_beam_jquery == 'undefined') {\n",
              "          var jqueryScript = document.createElement('script');\n",
              "          jqueryScript.src = 'https://code.jquery.com/jquery-3.4.1.slim.min.js';\n",
              "          jqueryScript.type = 'text/javascript';\n",
              "          jqueryScript.onload = function() {\n",
              "            var datatableScript = document.createElement('script');\n",
              "            datatableScript.src = 'https://cdn.datatables.net/1.10.20/js/jquery.dataTables.min.js';\n",
              "            datatableScript.type = 'text/javascript';\n",
              "            datatableScript.onload = function() {\n",
              "              window.interactive_beam_jquery = jQuery.noConflict(true);\n",
              "              window.interactive_beam_jquery(document).ready(function($){\n",
              "                \n",
              "              });\n",
              "            }\n",
              "            document.head.appendChild(datatableScript);\n",
              "          };\n",
              "          document.head.appendChild(jqueryScript);\n",
              "        } else {\n",
              "          window.interactive_beam_jquery(document).ready(function($){\n",
              "            \n",
              "          });\n",
              "        }"
            ]
          },
          "metadata": {}
        }
      ]
    },
    {
      "cell_type": "code",
      "source": [
        "with beam.Pipeline() as pipe:\n",
        "  q = (pipe\n",
        "     |beam.io.ReadFromText('data/orders.csv', skip_header_lines=True)\n",
        "     |beam.Map(lambda x: x.split(';'))\n",
        "     |beam.Map(lambda x: x[1] + ';' + x[0] + ';' + x[2] + ';' + x[3])\n",
        "     #|beam.Map(lambda x: x.split(';'))\n",
        "     |beam.io.WriteToText('data/orders_v.csv')\n",
        "  )"
      ],
      "metadata": {
        "id": "RielYxTyRssd"
      },
      "execution_count": null,
      "outputs": []
    },
    {
      "cell_type": "code",
      "source": [
        "with beam.Pipeline() as pipe:\n",
        "  p = (pipe\n",
        "     |beam.io.ReadFromText('/content/data/orders.csv', skip_header_lines=True)\n",
        "     |beam.Map(lambda x: x.split(';'))\n",
        "     |beam.Map(lambda x: (x[1],x))\n",
        "     |beam.combiners.Count.PerKey()\n",
        "     #|beam.combiners.Mean.PerKey()\n",
        "     |beam.io.WriteToText('data/orders_v2.csv')\n",
        "     |beam.Map(print)\n",
        "  )"
      ],
      "metadata": {
        "id": "0rm2iA7ISL2O"
      },
      "execution_count": null,
      "outputs": []
    },
    {
      "cell_type": "code",
      "source": [
        "with beam.Pipeline() as pipe:\n",
        "  p = (pipe\n",
        "     |beam.io.ReadFromText('data/orders_v2.csv-00000-of-00001')\n",
        "     |beam.Map(lambda x: x.split(')'))\n",
        "     |beam.Map(lambda x: x[0])\n",
        "     |beam.Map(lambda x: x.split(\"'\"))\n",
        "     |beam.Map(lambda x: x[1] + x[2])\n",
        "     |beam.Map(lambda x: x.split(\", \"))\n",
        "     |beam.Map(lambda x: x[0] + ',' + x[1])\n",
        "     #|beam.Map(lambda x: x.split(\",\"))\n",
        "     #|beam.Map(lambda x: (x[1]))\n",
        "     #|beam.combiners.Mean.Globally()\n",
        "     #|beam.combiners.Count.PerKey()\n",
        "     |beam.io.WriteToText('data/orders_v3.csv')\n",
        "     #|beam.Map(print)\n",
        "  )"
      ],
      "metadata": {
        "id": "tr7n7LY7TLxw"
      },
      "execution_count": null,
      "outputs": []
    },
    {
      "cell_type": "code",
      "source": [
        "from apache_beam import CoGroupByKey, Map\n",
        "with beam.Pipeline() as p:\n",
        "    users = (p | \"Read orders\" >> beam.io.ReadFromText(\"data/users_v.csv-00000-of-00001\")\n",
        "                | beam.Map(lambda x: x.split(';'))\n",
        "                |beam.Map(lambda x: x[0] + ',' + x[2])\n",
        "                | beam.Map(lambda x: x.split(','))\n",
        "             )\n",
        "    \n",
        "    orders = (p |beam.io.ReadFromText(\"data/orders_v3.csv-00000-of-00001\")\n",
        "               | beam.Map(lambda x: x.split(','))\n",
        "            )\n",
        "\n",
        "    x = ({\"users\": users, \"orders\": orders} | CoGroupByKey() \n",
        "                                            |beam.io.WriteToText('data/combined.csv')\n",
        "    )\n"
      ],
      "metadata": {
        "id": "v888nVDpVDGx"
      },
      "execution_count": null,
      "outputs": []
    },
    {
      "cell_type": "code",
      "source": [
        "#average number of orders\n",
        "with beam.Pipeline() as pipe:\n",
        "  p = (pipe\n",
        "     |beam.io.ReadFromText('data/combined.csv-00000-of-00001')\n",
        "     |beam.Map(lambda x: x.split(\"'\"))\n",
        "     |beam.Map(lambda x: x[1] + ',' + x[5] + ',' + x[9])\n",
        "     |beam.Map(lambda x: x.split(\",\"))\n",
        "     |beam.Map(lambda x: x[1] + ',' + x[2])\n",
        "     |beam.Map(lambda x: x.split(\",\"))\n",
        "     |beam.Map(lambda x: (x[0],int(x[1])))\n",
        "     |beam.combiners.Mean.PerKey()\n",
        "     |beam.Map(print)\n",
        "  )"
      ],
      "metadata": {
        "colab": {
          "base_uri": "https://localhost:8080/"
        },
        "id": "WVWJEIkQVz2U",
        "outputId": "74b8eb50-8786-46a5-d047-66f887530951"
      },
      "execution_count": null,
      "outputs": [
        {
          "output_type": "stream",
          "name": "stdout",
          "text": [
            "('male', 678.2220381110191)\n",
            "('female', 678.5173913043478)\n"
          ]
        }
      ]
    },
    {
      "cell_type": "code",
      "source": [
        "#total number of orders\n",
        "\n",
        "with beam.Pipeline() as pipe:\n",
        "  p = (pipe\n",
        "     |beam.io.ReadFromText('data/combined.csv-00000-of-00001')\n",
        "     |beam.Map(lambda x: x.split(\"'\"))\n",
        "     |beam.Map(lambda x: x[1] + ',' + x[5] + ',' + x[9])\n",
        "     |beam.Map(lambda x: x.split(\",\"))\n",
        "     |beam.Map(lambda x: x[1] + ',' + x[2])\n",
        "     |beam.Map(lambda x: x.split(\",\"))\n",
        "     |beam.Map(lambda x: (x[0],int(x[1])))\n",
        "     |beam.CombinePerKey(sum)\n",
        "     |beam.Map(print)\n",
        "  )"
      ],
      "metadata": {
        "colab": {
          "base_uri": "https://localhost:8080/"
        },
        "id": "69hZ5K-tWnny",
        "outputId": "9ccc4e9d-6163-4102-dc2a-0f30ec102b61"
      },
      "execution_count": 11,
      "outputs": [
        {
          "output_type": "stream",
          "name": "stdout",
          "text": [
            "('female', 780295)\n",
            "('male', 818614)\n"
          ]
        }
      ]
    },
    {
      "cell_type": "code",
      "source": [
        "! head -3 /content/data/orders.csv"
      ],
      "metadata": {
        "colab": {
          "base_uri": "https://localhost:8080/"
        },
        "id": "PUCs2UPIfn45",
        "outputId": "105fb713-9ad3-4943-ce16-116658b806bd"
      },
      "execution_count": 13,
      "outputs": [
        {
          "output_type": "stream",
          "name": "stdout",
          "text": [
            "order_no;user_id;product_list;date_purchased\n",
            "1000;1887;Cassava;2000-01-01\n",
            "1001;838;Calabash, Water Spinach;2000-01-01\n"
          ]
        }
      ]
    }
  ]
}